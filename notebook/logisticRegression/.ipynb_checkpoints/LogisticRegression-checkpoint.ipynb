{
 "cells": [
  {
   "cell_type": "code",
   "execution_count": null,
   "metadata": {},
   "outputs": [],
   "source": [
    "import numpy as np \n",
    "import time\n",
    "import matplotlib.pyplot as plt\n",
    "import seaborn as sns\n",
    "\n",
    "from sklearn.datasets import fetch_openml\n",
    "from sklearn.model_selection import train_test_split\n",
    "from sklearn.linear_model import LogisticRegression\n",
    "from sklearn import metrics\n",
    "\n",
    "from IPython.display import clear_output, display\n",
    "\n",
    "from IPython.core.display import display, HTML\n",
    "display(HTML(\"<style>.container { width:90% !important; }</style>\"))"
   ]
  },
  {
   "cell_type": "code",
   "execution_count": null,
   "metadata": {},
   "outputs": [],
   "source": [
    "#Load MNIST data\n",
    "X, y = fetch_openml('mnist_784', version=1, return_X_y=True)\n",
    "\n",
    "print(\"Image Data Shape\" , X.shape)\n",
    "print(\"Label Data Shape\", y.shape)"
   ]
  },
  {
   "cell_type": "code",
   "execution_count": null,
   "metadata": {},
   "outputs": [],
   "source": [
    "#Split dataset into train and test set (80/20)\n",
    "train_img, test_img, train_lbl, test_lbl = train_test_split(X, y, test_size=0.2, random_state=0)\n",
    "\n",
    "print('Train set: %i' % len(train_img))\n",
    "print('Test set : %i' % len(test_img))"
   ]
  },
  {
   "cell_type": "code",
   "execution_count": null,
   "metadata": {},
   "outputs": [],
   "source": [
    "#Plot examples\n",
    "plt.figure(figsize=(20,10))\n",
    "for index, (image, label) in enumerate(zip(train_img[0:10], train_lbl[0:10])):\n",
    "     plt.subplot(2, 5, index + 1)\n",
    "     plt.imshow(np.reshape(image, (28,28)), cmap=plt.cm.gray)\n",
    "     plt.title('Training: {}\\n'.format(label), fontsize = 15)"
   ]
  },
  {
   "cell_type": "code",
   "execution_count": null,
   "metadata": {},
   "outputs": [],
   "source": [
    "# Prepare the logistic regressor\n",
    "# all parameters not specified are set to their defaults\n",
    "logisticRegr = LogisticRegression(C=50. / train_img.shape[0],\n",
    "                         multi_class='multinomial',\n",
    "                         penalty='l1', solver='saga', tol=0.1)\n",
    "\n",
    "# Fit model to training set (take some time)\n",
    "t0 = time.time()\n",
    "logisticRegr.fit(train_img, train_lbl)\n",
    "t1 = time.time()\n",
    "print(\"Logistic regression converge after {} sec.\".format(t1-t0))"
   ]
  },
  {
   "cell_type": "code",
   "execution_count": null,
   "metadata": {},
   "outputs": [],
   "source": [
    "#Make predictions: return array of labels\n",
    "print(logisticRegr.predict(test_img[:10]))\n",
    "\n",
    "# make prediction for all image in the test set\n",
    "predictions = logisticRegr.predict(test_img)"
   ]
  },
  {
   "cell_type": "code",
   "execution_count": null,
   "metadata": {},
   "outputs": [],
   "source": [
    "# Use score method to get accuracy of model\n",
    "score = logisticRegr.score(test_img, test_lbl)\n",
    "print(\"Score on MNIST dataset: {}\".format(score))"
   ]
  },
  {
   "cell_type": "code",
   "execution_count": null,
   "metadata": {},
   "outputs": [],
   "source": [
    "# Get the confusion matrix\n",
    "\n",
    "cm = metrics.confusion_matrix(test_lbl, predictions)\n",
    "\n",
    "plt.figure(figsize=(20,10))\n",
    "sns.heatmap(cm, annot=True, fmt=\"d\", linewidths=.5, square = True, cmap = 'Blues_r');\n",
    "plt.ylabel('Actual label');\n",
    "plt.xlabel('Predicted label');\n",
    "all_sample_title = 'Accuracy Score: {0}'.format(score)\n",
    "plt.title(all_sample_title, size = 15);"
   ]
  },
  {
   "cell_type": "code",
   "execution_count": null,
   "metadata": {},
   "outputs": [],
   "source": [
    "# PLot some misclassified digits\n",
    "index = 0\n",
    "misclassifiedIndexes = []\n",
    "for label, predict in zip(test_lbl, predictions):\n",
    "    if label != predict: \n",
    "        misclassifiedIndexes.append(index)\n",
    "    index +=1\n",
    "        \n",
    "plt.figure(figsize=(20,10))\n",
    "for plotIndex, badIndex in enumerate(misclassifiedIndexes[0:10]):\n",
    "    plt.subplot(2, 5, plotIndex + 1)\n",
    "    plt.imshow(np.reshape(test_img[badIndex], (28,28)), cmap=plt.cm.gray)\n",
    "    plt.title('Predicted: {}, Actual: {}'.format(predictions[badIndex], test_lbl[badIndex]), fontsize = 15)"
   ]
  },
  {
   "cell_type": "code",
   "execution_count": null,
   "metadata": {},
   "outputs": [],
   "source": [
    "# PLot some digits\n",
    "index = 0\n",
    "misclassifiedIndexes = []\n",
    "for label, predict in zip(test_lbl, predictions):\n",
    "    misclassifiedIndexes.append(index)\n",
    "    index +=1\n",
    "        \n",
    "plt.figure(figsize=(20,10))\n",
    "for plotIndex, badIndex in enumerate(misclassifiedIndexes[0:10]):\n",
    "    plt.subplot(2, 5, plotIndex + 1)\n",
    "    plt.imshow(np.reshape(test_img[badIndex], (28,28)), cmap=plt.cm.gray)\n",
    "    plt.title('Predicted: {}, Actual: {}'.format(predictions[badIndex], test_lbl[badIndex]), fontsize = 15)"
   ]
  }
 ],
 "metadata": {
  "kernelspec": {
   "display_name": "Python 3",
   "language": "python",
   "name": "python3"
  },
  "language_info": {
   "codemirror_mode": {
    "name": "ipython",
    "version": 3
   },
   "file_extension": ".py",
   "mimetype": "text/x-python",
   "name": "python",
   "nbconvert_exporter": "python",
   "pygments_lexer": "ipython3",
   "version": "3.6.9"
  }
 },
 "nbformat": 4,
 "nbformat_minor": 2
}
