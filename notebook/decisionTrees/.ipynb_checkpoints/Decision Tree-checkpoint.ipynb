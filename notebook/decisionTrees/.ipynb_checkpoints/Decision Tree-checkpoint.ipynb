{
 "cells": [
  {
   "cell_type": "code",
   "execution_count": 2,
   "metadata": {},
   "outputs": [],
   "source": [
    "import numpy as np\n",
    "import pandas as pd\n",
    "import matplotlib.pyplot as plt\n",
    "\n",
    "from sklearn.tree import DecisionTreeClassifier\n",
    "from sklearn.ensemble import RandomForestClassifier, AdaBoostClassifier\n",
    "from sklearn.model_selection import train_test_split\n",
    "from sklearn import metrics\n",
    "from sklearn import tree\n",
    "\n",
    "import xgboost as xgb"
   ]
  },
  {
   "cell_type": "code",
   "execution_count": 3,
   "metadata": {},
   "outputs": [
    {
     "name": "stdout",
     "output_type": "stream",
     "text": [
      "dataset shape: (891, 11)\n"
     ]
    },
    {
     "data": {
      "text/html": [
       "<div>\n",
       "<style scoped>\n",
       "    .dataframe tbody tr th:only-of-type {\n",
       "        vertical-align: middle;\n",
       "    }\n",
       "\n",
       "    .dataframe tbody tr th {\n",
       "        vertical-align: top;\n",
       "    }\n",
       "\n",
       "    .dataframe thead th {\n",
       "        text-align: right;\n",
       "    }\n",
       "</style>\n",
       "<table border=\"1\" class=\"dataframe\">\n",
       "  <thead>\n",
       "    <tr style=\"text-align: right;\">\n",
       "      <th></th>\n",
       "      <th>Survived</th>\n",
       "      <th>Pclass</th>\n",
       "      <th>Name</th>\n",
       "      <th>Sex</th>\n",
       "      <th>Age</th>\n",
       "      <th>SibSp</th>\n",
       "      <th>Parch</th>\n",
       "      <th>Ticket</th>\n",
       "      <th>Fare</th>\n",
       "      <th>Cabin</th>\n",
       "      <th>Embarked</th>\n",
       "    </tr>\n",
       "  </thead>\n",
       "  <tbody>\n",
       "    <tr>\n",
       "      <th>1</th>\n",
       "      <td>0</td>\n",
       "      <td>3</td>\n",
       "      <td>Braund, Mr. Owen Harris</td>\n",
       "      <td>male</td>\n",
       "      <td>22.0</td>\n",
       "      <td>1</td>\n",
       "      <td>0</td>\n",
       "      <td>A/5 21171</td>\n",
       "      <td>7.2500</td>\n",
       "      <td>NaN</td>\n",
       "      <td>S</td>\n",
       "    </tr>\n",
       "    <tr>\n",
       "      <th>2</th>\n",
       "      <td>1</td>\n",
       "      <td>1</td>\n",
       "      <td>Cumings, Mrs. John Bradley (Florence Briggs Th...</td>\n",
       "      <td>female</td>\n",
       "      <td>38.0</td>\n",
       "      <td>1</td>\n",
       "      <td>0</td>\n",
       "      <td>PC 17599</td>\n",
       "      <td>71.2833</td>\n",
       "      <td>C85</td>\n",
       "      <td>C</td>\n",
       "    </tr>\n",
       "    <tr>\n",
       "      <th>3</th>\n",
       "      <td>1</td>\n",
       "      <td>3</td>\n",
       "      <td>Heikkinen, Miss. Laina</td>\n",
       "      <td>female</td>\n",
       "      <td>26.0</td>\n",
       "      <td>0</td>\n",
       "      <td>0</td>\n",
       "      <td>STON/O2. 3101282</td>\n",
       "      <td>7.9250</td>\n",
       "      <td>NaN</td>\n",
       "      <td>S</td>\n",
       "    </tr>\n",
       "    <tr>\n",
       "      <th>4</th>\n",
       "      <td>1</td>\n",
       "      <td>1</td>\n",
       "      <td>Futrelle, Mrs. Jacques Heath (Lily May Peel)</td>\n",
       "      <td>female</td>\n",
       "      <td>35.0</td>\n",
       "      <td>1</td>\n",
       "      <td>0</td>\n",
       "      <td>113803</td>\n",
       "      <td>53.1000</td>\n",
       "      <td>C123</td>\n",
       "      <td>S</td>\n",
       "    </tr>\n",
       "    <tr>\n",
       "      <th>5</th>\n",
       "      <td>0</td>\n",
       "      <td>3</td>\n",
       "      <td>Allen, Mr. William Henry</td>\n",
       "      <td>male</td>\n",
       "      <td>35.0</td>\n",
       "      <td>0</td>\n",
       "      <td>0</td>\n",
       "      <td>373450</td>\n",
       "      <td>8.0500</td>\n",
       "      <td>NaN</td>\n",
       "      <td>S</td>\n",
       "    </tr>\n",
       "  </tbody>\n",
       "</table>\n",
       "</div>"
      ],
      "text/plain": [
       "   Survived  Pclass                                               Name  \\\n",
       "1         0       3                            Braund, Mr. Owen Harris   \n",
       "2         1       1  Cumings, Mrs. John Bradley (Florence Briggs Th...   \n",
       "3         1       3                             Heikkinen, Miss. Laina   \n",
       "4         1       1       Futrelle, Mrs. Jacques Heath (Lily May Peel)   \n",
       "5         0       3                           Allen, Mr. William Henry   \n",
       "\n",
       "      Sex   Age  SibSp  Parch            Ticket     Fare Cabin Embarked  \n",
       "1    male  22.0      1      0         A/5 21171   7.2500   NaN        S  \n",
       "2  female  38.0      1      0          PC 17599  71.2833   C85        C  \n",
       "3  female  26.0      0      0  STON/O2. 3101282   7.9250   NaN        S  \n",
       "4  female  35.0      1      0            113803  53.1000  C123        S  \n",
       "5    male  35.0      0      0            373450   8.0500   NaN        S  "
      ]
     },
     "execution_count": 3,
     "metadata": {},
     "output_type": "execute_result"
    }
   ],
   "source": [
    "# Get Titanic dataset\n",
    "data = pd.read_csv(\"data/titanic_dataset.csv\")\n",
    "data.index = data.PassengerId.values\n",
    "data.drop('PassengerId',axis=1,inplace=True)\n",
    "print(\"dataset shape: \" + str(data.shape))\n",
    "data.head()"
   ]
  },
  {
   "cell_type": "code",
   "execution_count": 4,
   "metadata": {},
   "outputs": [
    {
     "data": {
      "text/html": [
       "<div>\n",
       "<style scoped>\n",
       "    .dataframe tbody tr th:only-of-type {\n",
       "        vertical-align: middle;\n",
       "    }\n",
       "\n",
       "    .dataframe tbody tr th {\n",
       "        vertical-align: top;\n",
       "    }\n",
       "\n",
       "    .dataframe thead th {\n",
       "        text-align: right;\n",
       "    }\n",
       "</style>\n",
       "<table border=\"1\" class=\"dataframe\">\n",
       "  <thead>\n",
       "    <tr style=\"text-align: right;\">\n",
       "      <th></th>\n",
       "      <th>Survived</th>\n",
       "      <th>Pclass</th>\n",
       "      <th>Sex</th>\n",
       "      <th>Age</th>\n",
       "      <th>SibSp</th>\n",
       "      <th>Parch</th>\n",
       "      <th>Fare</th>\n",
       "      <th>Embarked</th>\n",
       "      <th>HasCabin</th>\n",
       "    </tr>\n",
       "  </thead>\n",
       "  <tbody>\n",
       "    <tr>\n",
       "      <th>1</th>\n",
       "      <td>0</td>\n",
       "      <td>3</td>\n",
       "      <td>0</td>\n",
       "      <td>22.0</td>\n",
       "      <td>1</td>\n",
       "      <td>0</td>\n",
       "      <td>7.2500</td>\n",
       "      <td>0</td>\n",
       "      <td>0</td>\n",
       "    </tr>\n",
       "    <tr>\n",
       "      <th>2</th>\n",
       "      <td>1</td>\n",
       "      <td>1</td>\n",
       "      <td>1</td>\n",
       "      <td>38.0</td>\n",
       "      <td>1</td>\n",
       "      <td>0</td>\n",
       "      <td>71.2833</td>\n",
       "      <td>1</td>\n",
       "      <td>1</td>\n",
       "    </tr>\n",
       "    <tr>\n",
       "      <th>3</th>\n",
       "      <td>1</td>\n",
       "      <td>3</td>\n",
       "      <td>1</td>\n",
       "      <td>26.0</td>\n",
       "      <td>0</td>\n",
       "      <td>0</td>\n",
       "      <td>7.9250</td>\n",
       "      <td>0</td>\n",
       "      <td>0</td>\n",
       "    </tr>\n",
       "    <tr>\n",
       "      <th>4</th>\n",
       "      <td>1</td>\n",
       "      <td>1</td>\n",
       "      <td>1</td>\n",
       "      <td>35.0</td>\n",
       "      <td>1</td>\n",
       "      <td>0</td>\n",
       "      <td>53.1000</td>\n",
       "      <td>0</td>\n",
       "      <td>1</td>\n",
       "    </tr>\n",
       "    <tr>\n",
       "      <th>5</th>\n",
       "      <td>0</td>\n",
       "      <td>3</td>\n",
       "      <td>0</td>\n",
       "      <td>35.0</td>\n",
       "      <td>0</td>\n",
       "      <td>0</td>\n",
       "      <td>8.0500</td>\n",
       "      <td>0</td>\n",
       "      <td>0</td>\n",
       "    </tr>\n",
       "  </tbody>\n",
       "</table>\n",
       "</div>"
      ],
      "text/plain": [
       "   Survived  Pclass  Sex   Age  SibSp  Parch     Fare  Embarked  HasCabin\n",
       "1         0       3    0  22.0      1      0   7.2500         0         0\n",
       "2         1       1    1  38.0      1      0  71.2833         1         1\n",
       "3         1       3    1  26.0      0      0   7.9250         0         0\n",
       "4         1       1    1  35.0      1      0  53.1000         0         1\n",
       "5         0       3    0  35.0      0      0   8.0500         0         0"
      ]
     },
     "execution_count": 4,
     "metadata": {},
     "output_type": "execute_result"
    }
   ],
   "source": [
    "# Prepare data (Features engineering)\n",
    "\n",
    "# 1) transform string values in int values for categorical features (Sex, Embarked)\n",
    "data['Sex'] = data['Sex'].map( {'female': 1, 'male': 0} ).astype(int)\n",
    "data['Embarked'] = data['Embarked'].fillna('U').map( {'S': 0, 'C': 1, 'Q': 2, 'U': 3 } ).astype(int)\n",
    "\n",
    "# 2) Create a new boolean features 'HasCabin' which is False if Cabin is NaN, True otherwise\n",
    "data['HasCabin'] = data.Cabin.notnull() * 1\n",
    "\n",
    "# 3) Drop unnused features\n",
    "data.drop(['Name','Ticket','Cabin'],axis=1,inplace=True)\n",
    "\n",
    "# 4) Missing values: NaN value in Age: drop it for simplicity\n",
    "data.dropna(inplace=True)\n",
    "\n",
    "# Look the data\n",
    "data.head()"
   ]
  },
  {
   "cell_type": "code",
   "execution_count": 5,
   "metadata": {},
   "outputs": [
    {
     "name": "stdout",
     "output_type": "stream",
     "text": [
      "Number of entries in the training set : 571\n",
      "Number of entries in the test set     : 143\n",
      "Number of features in the training set: 8\n"
     ]
    }
   ],
   "source": [
    "# Split features and labels into X et Y numpy array\n",
    "X = data.drop('Survived',axis=1).values\n",
    "Y = data.Survived.values.reshape(X.shape[0],1)\n",
    "\n",
    "# Split into train and test set (80/20)\n",
    "X_train, X_test, Y_train, Y_test = train_test_split(X, Y, test_size=0.2, random_state=0)\n",
    "\n",
    "print(\"Number of entries in the training set : {}\".format(X_train.shape[0]))\n",
    "print(\"Number of entries in the test set     : {}\".format(X_test.shape[0]))\n",
    "print(\"Number of features in the training set: {}\".format(X_train.shape[1]))"
   ]
  },
  {
   "cell_type": "code",
   "execution_count": 6,
   "metadata": {},
   "outputs": [],
   "source": [
    "# Prepare model comparison table\n",
    "compModel = pd.DataFrame({'accuracy':0}, index = ['Decision tree','Random forest','AdaBoost','XGBoost']).T"
   ]
  },
  {
   "cell_type": "code",
   "execution_count": 7,
   "metadata": {},
   "outputs": [
    {
     "name": "stdout",
     "output_type": "stream",
     "text": [
      "DECISION TREE:\n",
      "Prediction exemples: [1 1 1 0 1 0 1 0 0 0]\n",
      "Decision Tree accuracy: 0.7622377622377622\n"
     ]
    }
   ],
   "source": [
    "# DECISION TREE\n",
    "print(\"DECISION TREE:\")\n",
    "\n",
    "# Prepare DecisionTree model and fit it to the data\n",
    "dt = DecisionTreeClassifier().fit(X_train, Y_train)\n",
    "\n",
    "# Make prediction\n",
    "predictions = dt.predict(X_test)\n",
    "print('Prediction exemples: ' + str(dt.predict(X_test[:10])))\n",
    "\n",
    "# Get accuracy of this model\n",
    "score = dt.score(X_test, Y_test)\n",
    "compModel['Decision tree'] = score\n",
    "print(\"Decision Tree accuracy: {}\".format(score))"
   ]
  },
  {
   "cell_type": "code",
   "execution_count": 8,
   "metadata": {},
   "outputs": [
    {
     "name": "stdout",
     "output_type": "stream",
     "text": [
      "RANDOM FOREST:\n",
      "Prediction exemples: [1 1 1 0 1 0 0 0 0 0]\n",
      "Random Forest accuracy: 0.7832167832167832\n"
     ]
    }
   ],
   "source": [
    "# RANDOM FOREST\n",
    "print(\"RANDOM FOREST:\")\n",
    "\n",
    "# Prepare DecisionTree model and fit it to the data\n",
    "rf = RandomForestClassifier(n_estimators=50).fit(X_train, Y_train.reshape(Y_train.shape[0],))\n",
    "\n",
    "# Make prediction\n",
    "predictions = rf.predict(X_test)\n",
    "print('Prediction exemples: ' + str(rf.predict(X_test[:10])))\n",
    "\n",
    "# Get accuracy of this model\n",
    "score = rf.score(X_test, Y_test)\n",
    "compModel['Random forest'] = score\n",
    "print(\"Random Forest accuracy: {}\".format(score))"
   ]
  },
  {
   "cell_type": "code",
   "execution_count": 9,
   "metadata": {},
   "outputs": [
    {
     "name": "stdout",
     "output_type": "stream",
     "text": [
      "AdaBoost:\n",
      "Prediction exemples: [1 1 1 0 1 0 0 0 0 0]\n",
      "AdaBoost accuracy: 0.8321678321678322\n"
     ]
    }
   ],
   "source": [
    "# AdaBoost\n",
    "print(\"AdaBoost:\")\n",
    "\n",
    "# Prepare DecisionTree model and fit it to the data\n",
    "adaB = AdaBoostClassifier(n_estimators=50).fit(X_train, Y_train.reshape(Y_train.shape[0],))\n",
    "\n",
    "# Make prediction\n",
    "predictions = adaB.predict(X_test)\n",
    "print('Prediction exemples: ' + str(adaB.predict(X_test[:10])))\n",
    "\n",
    "# Get accuracy of this model\n",
    "score = adaB.score(X_test, Y_test)\n",
    "compModel['AdaBoost'] = score\n",
    "print(\"AdaBoost accuracy: {}\".format(score))"
   ]
  },
  {
   "cell_type": "code",
   "execution_count": 10,
   "metadata": {},
   "outputs": [
    {
     "name": "stdout",
     "output_type": "stream",
     "text": [
      "XGBoost\n",
      "\n",
      "[0]\ttrain-error:0.182137\tvalid-error:0.195804\n",
      "Multiple eval metrics have been passed: 'valid-error' will be used for early stopping.\n",
      "\n",
      "Will train until valid-error hasn't improved in 50 rounds.\n",
      "[10]\ttrain-error:0.103327\tvalid-error:0.174825\n",
      "[20]\ttrain-error:0.091068\tvalid-error:0.160839\n",
      "[30]\ttrain-error:0.087566\tvalid-error:0.160839\n",
      "[40]\ttrain-error:0.087566\tvalid-error:0.160839\n",
      "[49]\ttrain-error:0.087566\tvalid-error:0.160839\n",
      "Modeling RMSLE 0.14685\n",
      "\n",
      "Prediction exemples: [0 1 1 0 1 0 0 0 0 0]\n",
      "XGBoost accuracy: 0.8391608391608392\n"
     ]
    }
   ],
   "source": [
    "# XGBoost\n",
    "print(\"XGBoost\")\n",
    "print()\n",
    "\n",
    "# Prepare dataset\n",
    "xgb_train = xgb.DMatrix(X_train, label = Y_train)\n",
    "xgb_test = xgb.DMatrix(X_test, label = Y_test)\n",
    "watchlist = [(xgb_train, 'train'), (xgb_test, 'valid')]\n",
    "\n",
    "# Prepare model (hyperparameters)\n",
    "xgb_pars = {'min_child_weight': 5, 'eta': 0.9, 'max_depth': 15, 'gamma': 0.5, \n",
    "            'booster' : 'gbtree', 'objective': 'binary:logistic'}\n",
    "\n",
    "# Train the XGBoost model\n",
    "xgbModel = xgb.train(xgb_pars, xgb_train, 50, watchlist, early_stopping_rounds=50, maximize=False, verbose_eval=10)\n",
    "print('Modeling RMSLE %.5f' % xgbModel.best_score)\n",
    "print()\n",
    "\n",
    "# Make prediction\n",
    "predictions = (xgbModel.predict(xgb_test) > 0.5) * 1\n",
    "print('Prediction exemples: ' + str((xgbModel.predict(xgb_test)[:10] > 0.5)*1))\n",
    "\n",
    "# Get accuracy of this model\n",
    "score = (Y_test.reshape(Y_test.shape[0],) == predictions).sum() / Y_test.shape[0]\n",
    "compModel['XGBoost'] = score\n",
    "print(\"XGBoost accuracy: {}\".format(score))"
   ]
  },
  {
   "cell_type": "code",
   "execution_count": 11,
   "metadata": {},
   "outputs": [
    {
     "data": {
      "text/html": [
       "<div>\n",
       "<style scoped>\n",
       "    .dataframe tbody tr th:only-of-type {\n",
       "        vertical-align: middle;\n",
       "    }\n",
       "\n",
       "    .dataframe tbody tr th {\n",
       "        vertical-align: top;\n",
       "    }\n",
       "\n",
       "    .dataframe thead th {\n",
       "        text-align: right;\n",
       "    }\n",
       "</style>\n",
       "<table border=\"1\" class=\"dataframe\">\n",
       "  <thead>\n",
       "    <tr style=\"text-align: right;\">\n",
       "      <th></th>\n",
       "      <th>accuracy</th>\n",
       "    </tr>\n",
       "  </thead>\n",
       "  <tbody>\n",
       "    <tr>\n",
       "      <th>XGBoost</th>\n",
       "      <td>0.839161</td>\n",
       "    </tr>\n",
       "    <tr>\n",
       "      <th>AdaBoost</th>\n",
       "      <td>0.832168</td>\n",
       "    </tr>\n",
       "    <tr>\n",
       "      <th>Random forest</th>\n",
       "      <td>0.783217</td>\n",
       "    </tr>\n",
       "    <tr>\n",
       "      <th>Decision tree</th>\n",
       "      <td>0.762238</td>\n",
       "    </tr>\n",
       "  </tbody>\n",
       "</table>\n",
       "</div>"
      ],
      "text/plain": [
       "               accuracy\n",
       "XGBoost        0.839161\n",
       "AdaBoost       0.832168\n",
       "Random forest  0.783217\n",
       "Decision tree  0.762238"
      ]
     },
     "execution_count": 11,
     "metadata": {},
     "output_type": "execute_result"
    }
   ],
   "source": [
    "# Compare model performances:\n",
    "compModel.T.sort_values('accuracy',ascending=False)"
   ]
  },
  {
   "cell_type": "code",
   "execution_count": null,
   "metadata": {},
   "outputs": [],
   "source": []
  }
 ],
 "metadata": {
  "kernelspec": {
   "display_name": "Python 3",
   "language": "python",
   "name": "python3"
  },
  "language_info": {
   "codemirror_mode": {
    "name": "ipython",
    "version": 3
   },
   "file_extension": ".py",
   "mimetype": "text/x-python",
   "name": "python",
   "nbconvert_exporter": "python",
   "pygments_lexer": "ipython3",
   "version": "3.5.2"
  }
 },
 "nbformat": 4,
 "nbformat_minor": 2
}
